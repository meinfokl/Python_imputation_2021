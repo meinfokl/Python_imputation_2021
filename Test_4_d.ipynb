{
 "cells": [
  {
   "cell_type": "code",
   "execution_count": 18,
   "metadata": {},
   "outputs": [],
   "source": [
    "import numpy as np\n",
    "import pandas as pd\n",
    "from sklearn.feature_selection import mutual_info_classif\n",
    "from sklearn.metrics import mutual_info_score\n",
    "\n",
    "def prepare_data(M):\n",
    "\n",
    "    rdata0 = pd.read_csv(\"BankChurners.csv\")\n",
    "    rdata = rdata0.drop([rdata0.columns[0],rdata0.columns[-1],rdata0.columns[-2]],axis=1)\n",
    "    rdata.head()\n",
    "\n",
    "    Dicts = []\n",
    "    for c in range(len(rdata.columns)):\n",
    "        l1 = rdata[rdata.columns[c]]\n",
    "        l2 = list(dict.fromkeys(l1))\n",
    "        l2.sort()\n",
    "        nn = len(l2)\n",
    "        Dicts.append(dict())\n",
    "        for i in range(len(l2)):\n",
    "            Dicts[c] [l2[i]] = i / nn \n",
    "    \n",
    "    rM = 1./M\n",
    "\n",
    "    DArray = np.zeros(  (rdata.shape[0], rdata.shape[1]),dtype = \"float\")\n",
    "    \n",
    "    for n in range(rdata.shape[0]):\n",
    "        for c in range(rdata.shape[1]):\n",
    "            #print (rdata [n,c])\n",
    "            DArray[n,c] =  ( Dicts[c] [ rdata.iat [n,c]]) // rM\n",
    "\n",
    "        \n",
    "    return (DArray)\n",
    "    \n",
    "# mutual information content\n",
    "def calc_mic (DA, Ci, ib):\n",
    "    A = DA[Ci,:]\n",
    "    B = DA[ib,:]\n",
    "    return mutual_info_classif(A.reshape(-1,1), B, discrete_features = True)\n",
    "    "
   ]
  },
  {
   "cell_type": "code",
   "execution_count": 22,
   "metadata": {},
   "outputs": [
    {
     "name": "stdout",
     "output_type": "stream",
     "text": [
      "0 : [1.43547357]\n",
      "1 : [1.50478828]\n",
      "2 : [1.16828245]\n",
      "3 : [2.20710797]\n",
      "4 : [1.19790593]\n",
      "5 : [1.1752046]\n",
      "6 : [1.29684413]\n",
      "7 : [1.31037296]\n",
      "8 : [1.46163597]\n",
      "9 : [1.36124757]\n",
      "10 : [1.19645573]\n",
      "11 : [1.41848366]\n",
      "12 : [1.25369182]\n",
      "13 : [1.41848366]\n",
      "14 : [1.36615885]\n",
      "15 : [1.48779838]\n",
      "16 : [1.25369182]\n",
      "17 : [1.41357239]\n",
      "18 : [1.29684413]\n",
      "19 : [1.57064193]\n"
     ]
    }
   ],
   "source": [
    "M= 10\n",
    "Ci = 3\n",
    "DA = prepare_data(M)\n",
    "ddim = DA.shape[1]\n",
    "for i in range(ddim):\n",
    "    v = calc_mic (DA, i, Ci)\n",
    "    print (i,\":\",v)"
   ]
  },
  {
   "cell_type": "code",
   "execution_count": 12,
   "metadata": {},
   "outputs": [
    {
     "name": "stdout",
     "output_type": "stream",
     "text": [
      "[[2]\n",
      " [3]\n",
      " [4]\n",
      " [5]\n",
      " [5]\n",
      " [6]]\n"
     ]
    }
   ],
   "source": [
    "a = np.array([[2,3],[4,5],[5,6]])\n",
    "print (a.reshape(-1,1))"
   ]
  },
  {
   "cell_type": "code",
   "execution_count": null,
   "metadata": {},
   "outputs": [],
   "source": []
  }
 ],
 "metadata": {
  "kernelspec": {
   "display_name": "Python 3",
   "language": "python",
   "name": "python3"
  },
  "language_info": {
   "codemirror_mode": {
    "name": "ipython",
    "version": 3
   },
   "file_extension": ".py",
   "mimetype": "text/x-python",
   "name": "python",
   "nbconvert_exporter": "python",
   "pygments_lexer": "ipython3",
   "version": "3.7.3"
  }
 },
 "nbformat": 4,
 "nbformat_minor": 4
}
